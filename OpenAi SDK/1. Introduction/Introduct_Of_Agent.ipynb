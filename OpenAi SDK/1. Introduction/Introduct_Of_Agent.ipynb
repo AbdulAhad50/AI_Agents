{
  "cells": [
    {
      "cell_type": "markdown",
      "metadata": {
        "id": "Eiritmy-Fmlx"
      },
      "source": [
        "# ***OpenAI Agents SDK - Roman Urdu Mein Samajh***\n",
        "\n",
        "##**Kya hai OpenAI Agents SDK?**\n",
        "Yeh ek lightweight aur easy-to-use SDK hai jiska kaam hai AI agents banana. Pehle OpenAI ne is per “Swarm” naam ka experimental project kiya tha — ab yeh uska production-ready version hai.\n",
        "\n",
        "Is SDK mein sirf kuch basic components (primitive cheezein) hain, lekin inhi se aap powerful aur real-world AI agents bana sakte hain.\n",
        "\n",
        "##**🔑 Core Components (Primitives) **\n",
        "\n",
        "##**1. Agents**\n",
        "Yeh Large Language Models (LLMs) hote hain jinhein aap instructions aur tools ke sath setup karte ho.\n",
        "\n",
        "Matlab: Aap agent ko batate ho “tum helpful assistant ho” + agar zarurat ho to usko tools bhi dete ho.\n",
        "\n",
        "###**2. Handoffs**\n",
        "\n",
        "  * Yeh feature allow karta hai ke ek agent doosray agent ko task de sakta hai.\n",
        "\n",
        "  * Jaise: Agar ek agent ko kuch technical kaam mila, to woh kisi aur expert agent ko “handoff” kar de.\n",
        "\n",
        "###**3. Guardrails**\n",
        "\n",
        "  * Yeh hoti hain input checks/validation. Agar koi input valid nahi, to agent kaam nahi karega.\n",
        "\n",
        "  * Jaise: Agar user ka input empty ho ya invalid ho, to agent turant reject kar dega.\n",
        "\n",
        "\n",
        "##**🧠 Python ke sath power**\n",
        "Yeh SDK Python ke sath mil ke kaam karta hai. Aap Python functions ko as tools use kar sakte hain — bina naye abstraction ya complex code ke."
      ]
    },
    {
      "cell_type": "markdown",
      "metadata": {
        "id": "86J740FYHMdc"
      },
      "source": [
        "#***Built in Features***\n",
        "\n",
        "##**1. Agent loop**\n",
        "\n",
        "* Automatic loop jo agent ka kaam sambhalta hai: tool call karna → result LLM ko dena → repeat till done.\n",
        "\n",
        "##**2. Python-first design**\n",
        "\n",
        "* Aapko koi naye framework ya syntax seekhne ki zarurat nahi — Python likho aur kaam shuru.\n",
        "\n",
        "##**3. Handoffs**\n",
        "\n",
        "* Multi-agent coordination ke liye.(eik agent doosre agent ko task desakta hai.)\n",
        "\n",
        "##**4. Guardrails**\n",
        "\n",
        "* Input validation aur early error breaking.\n",
        "\n",
        "##**5. Function tools**\n",
        "\n",
        "* Koi bhi Python function ko tool bana do. SDK automatic schema aur validation kar dega.\n",
        "\n",
        "##**6. Tracing**\n",
        "\n",
        "* Aapka agent kya kar raha hai, kya steps liye — yeh sab aap visualize aur debug kar sakte hain."
      ]
    },
    {
      "cell_type": "markdown",
      "metadata": {
        "id": "iAcMbODHEbLC"
      },
      "source": [
        "##**Installation**\n"
      ]
    },
    {
      "cell_type": "code",
      "execution_count": null,
      "metadata": {
        "colab": {
          "base_uri": "https://localhost:8080/"
        },
        "collapsed": true,
        "id": "RIvoG1yjECAs",
        "outputId": "b8e07e97-e13d-4e60-f4a7-a0c7a7378c10"
      },
      "outputs": [],
      "source": [
        "!pip install openai-agents"
      ]
    },
    {
      "cell_type": "markdown",
      "metadata": {
        "id": "TlCPAD4-I54-"
      },
      "source": [
        "#**💡 Hello World Example:**"
      ]
    },
    {
      "cell_type": "code",
      "execution_count": null,
      "metadata": {
        "id": "wkGDiBrHEYQ5"
      },
      "outputs": [],
      "source": [
        "from agents import Agent, Runner\n",
        "\n",
        "agent = Agent(\n",
        "    name=\"Assistant\",\n",
        "    instructions=\"You are a helpful assistant\"\n",
        ")\n",
        "\n",
        "result = Runner.run_sync(agent, \"Write a haiku about recursion in programming.\")\n",
        "print(result.final_output)\n"
      ]
    },
    {
      "cell_type": "markdown",
      "metadata": {
        "id": "osJCUqZuKelC"
      },
      "source": [
        "#***Output Example:***\n",
        "\n",
        "1. Code within the code,\n",
        "2. Functions calling themselves,\n",
        "3. Infinite loop's dance.\n"
      ]
    },
    {
      "cell_type": "markdown",
      "metadata": {
        "id": "lzYqnww_JcoN"
      },
      "source": [
        "#⚠️ **Note: Is code ko chalane se pehle aapko apni API key environment variable mein set karni hogi:**\n",
        "\n",
        "\n",
        "---\n",
        "\n",
        "\n",
        "\n",
        "\n",
        "> export OPENAI_API_KEY= 'OPENAI_KEY'\n",
        "\n",
        "\n",
        "\n",
        "\n",
        "---\n",
        "\n"
      ]
    },
    {
      "cell_type": "markdown",
      "metadata": {
        "id": "x7H6FTbpEaNN"
      },
      "source": [
        "#**✅ Summary**\n",
        "\n",
        "1. **Yeh SDK simple aur powerful hai.**\n",
        "\n",
        "2. **Aap LLM agents, tools, multi-agent systems, aur input validation build kar sakte hain.**\n",
        "\n",
        "3. **Sab kuch Python mein hota hai — no need to learn a new language.**\n",
        "\n",
        "4. **Yeh SDK real-world apps ke liye ready hai.**"
      ]
    }
  ],
  "metadata": {
    "colab": {
      "provenance": []
    },
    "kernelspec": {
      "display_name": "Python 3",
      "name": "python3"
    },
    "language_info": {
      "name": "python"
    }
  },
  "nbformat": 4,
  "nbformat_minor": 0
}
