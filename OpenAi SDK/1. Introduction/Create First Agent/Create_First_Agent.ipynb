{
  "nbformat": 4,
  "nbformat_minor": 0,
  "metadata": {
    "colab": {
      "provenance": []
    },
    "kernelspec": {
      "name": "python3",
      "display_name": "Python 3"
    },
    "language_info": {
      "name": "python"
    }
  },
  "cells": [
    {
      "cell_type": "markdown",
      "source": [
        "#*✅ Step-by-Step: First Agent Create Karna*"
      ],
      "metadata": {
        "id": "P6xpcC761ptn"
      }
    },
    {
      "cell_type": "markdown",
      "source": [
        "📌 ***1. SDK Install Karo***\n",
        "Sabse pehle Colab mein SDK install karo:\n",
        "\n",
        "```\n",
        "# This is formatted as code\n",
        "```\n",
        "\n"
      ],
      "metadata": {
        "id": "6crgvyln12yF"
      }
    },
    {
      "cell_type": "code",
      "execution_count": null,
      "metadata": {
        "id": "Tc7VPOEW1f-f"
      },
      "outputs": [],
      "source": [
        "!pip install openai-agents"
      ]
    },
    {
      "cell_type": "markdown",
      "source": [
        "**📌 *2. API Key Set Karo*:**\n",
        "Agar aapka OPENAI_API_KEY environment variable set nahi hai, to yeh code likh kar key manually set kar sakte ho:"
      ],
      "metadata": {
        "id": "NY3m_jEI2GYD"
      }
    },
    {
      "cell_type": "code",
      "source": [
        "import os\n",
        "\n",
        "# Yahan apni real OpenAI API key paste karein\n",
        "os.environ[\"OPENAI_API_KEY\"] = \"sk-...\""
      ],
      "metadata": {
        "id": "USBeu5y_2GE6"
      },
      "execution_count": null,
      "outputs": []
    },
    {
      "cell_type": "markdown",
      "source": [
        "***📌 3. Agent Create Karna + Run Karna***"
      ],
      "metadata": {
        "id": "Gh9YXMai2VGo"
      }
    },
    {
      "cell_type": "code",
      "source": [
        "from agents import Agent, Runner\n",
        "\n",
        "# Apna pehla agent banayein\n",
        "agent = Agent(\n",
        "    name=\"HelperAgent\",\n",
        "    instructions=\"Tum ek helpful aur polite assistant ho.\"\n",
        ")\n",
        "\n",
        "# Agent ko run karein kisi prompt ke sath\n",
        "result = Runner.run_sync(agent, \"Mujhe aik achi Urdu shayari sunao.\")\n",
        "\n",
        "# Result print karo\n",
        "print(result.final_output)\n"
      ],
      "metadata": {
        "id": "h3-J3zdr2gVh"
      },
      "execution_count": null,
      "outputs": []
    },
    {
      "cell_type": "markdown",
      "source": [
        "🔍 Output Example (aapka agent ka jawab)\n",
        "---\n",
        "Phoolon ki tarah muskuraana zindagi,\n",
        "Gham mein bhi khush rehna zindagi."
      ],
      "metadata": {
        "id": "fvTnygnv2mUC"
      }
    },
    {
      "cell_type": "markdown",
      "source": [
        "#🧠 ***Samajhne Wali Baat***\n",
        "\n",
        "*   Agent(...) mein aap agent ka naam aur instructions dete hain — yeh uska \"personality\" hoti hai\n",
        "\n",
        "*   Runner.run_sync(...) ka matlab agent ko run karo ek input ke sath.\n",
        "\n",
        "*   result.final_output mein agent ka jawab milta hai.\n",
        "\n",
        "\n",
        "\n",
        "\n",
        "\n",
        "\n",
        "\n"
      ],
      "metadata": {
        "id": "8ZcEZ3Nz2wRa"
      }
    }
  ]
}