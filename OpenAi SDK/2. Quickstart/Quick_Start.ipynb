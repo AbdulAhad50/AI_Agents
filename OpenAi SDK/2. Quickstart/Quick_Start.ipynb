{
  "nbformat": 4,
  "nbformat_minor": 0,
  "metadata": {
    "colab": {
      "provenance": []
    },
    "kernelspec": {
      "name": "python3",
      "display_name": "Python 3"
    },
    "language_info": {
      "name": "python"
    }
  },
  "cells": [
    {
      "cell_type": "markdown",
      "source": [
        "#***✅ Step 1: Project aur Virtual Environment Banana***\n",
        "##**🔧 Aapka Goal**:\n",
        "**Ek naya folder banana aur usmein ek virtual environment setup karna — jisme sirf aapka agents-related code aur dependencies install hongi. Ye system-wide Python ko disturb nahi karta.**"
      ],
      "metadata": {
        "id": "f48WyLZwMgyJ"
      }
    },
    {
      "cell_type": "markdown",
      "source": [
        "***🧱 Commands Jo Run Karni Hain:***"
      ],
      "metadata": {
        "id": "E7wGtUMbM9ni"
      }
    },
    {
      "cell_type": "code",
      "execution_count": null,
      "metadata": {
        "id": "QMQBV_PAMM-v"
      },
      "outputs": [],
      "source": [
        "mkdir my_project\n",
        "cd my_project\n",
        "python -m venv .venv"
      ]
    },
    {
      "cell_type": "markdown",
      "source": [
        "#***🧠 Roman Urdu Explanation:***\n",
        "***1. mkdir my_project***\n",
        "*  Ye command ek naya folder banati hai jiska naam hai my_project.\n",
        "🗂️ Yahan hum apna agents project rakhein ge.\n",
        "\n",
        "\n",
        "***2. cd my_project***\n",
        "\n",
        "*   Ye command aapko us naye folder ke andar le jati hai.\n",
        "📁 Ab hum folder ke andar kaam karna shuru karte hain.\n",
        "\n",
        "***3. python -m venv .venv***\n",
        "\n",
        "*   Ye command ek virtual environment banati hai jiska naam .venv hai.\n",
        "🧪 Is virtual environment mein hum sirf isi project ke liye Python packages install karenge.\n"
      ],
      "metadata": {
        "id": "L_d1k36HNJQY"
      }
    },
    {
      "cell_type": "markdown",
      "source": [
        "#***Note:***\n",
        "#***`🔄 Repeat Nahi Karna (One-Time Setup)`***\n",
        "Yeh sab sirf ek dafa karna hota hai har naye project ke liye."
      ],
      "metadata": {
        "id": "18SLEwpxNqhX"
      }
    },
    {
      "cell_type": "markdown",
      "source": [
        "\n",
        "\n",
        "```\n",
        "Aap bataayein:\n",
        "\n",
        "Aapka project folder ban gaya?\n",
        "\n",
        "Virtual environment successfully create ho gaya?\n",
        "```\n",
        "\n"
      ],
      "metadata": {
        "id": "zvv8sk3sN_Mi"
      }
    },
    {
      "cell_type": "markdown",
      "source": [
        "#***✅ Step 2: Virtual Environment Activate Karna***"
      ],
      "metadata": {
        "id": "wTiDvZaIVtu9"
      }
    },
    {
      "cell_type": "markdown",
      "source": [
        "##***🧱 Command:***"
      ],
      "metadata": {
        "id": "fYb_PKJfV2wY"
      }
    },
    {
      "cell_type": "code",
      "source": [
        "source .venv/bin/activate"
      ],
      "metadata": {
        "id": "MPTPFqQ2V2ci"
      },
      "execution_count": null,
      "outputs": []
    },
    {
      "cell_type": "markdown",
      "source": [
        "##***Roman Urdu Explanation:***\n",
        "`Jab bhi aap terminal/Colab ya VSCode mein kaam start karte ho, to aapko apna virtual environment activate karna hota hai.`\n",
        "\n",
        "\n",
        "---\n",
        "\n",
        "\n",
        "# `source *.venv/bin/activate* ye command *.venv* ko active kar deti hai, taake is environment ke andar ke packages use hoon.`\n",
        "\n",
        "\n",
        "\n",
        "\n",
        "\n",
        "---\n",
        "\n",
        "\n",
        "`Activate hone ke baad terminal ka prompt kuch aisa ho jata hai:`"
      ],
      "metadata": {
        "id": "xrNkAugNV-Od"
      }
    },
    {
      "cell_type": "code",
      "source": [
        "(.venv) user@machine:~/my_project$"
      ],
      "metadata": {
        "id": "PV48S16hXH52"
      },
      "execution_count": null,
      "outputs": []
    },
    {
      "cell_type": "markdown",
      "source": [
        "# ***Yani ab jitni bhi pip install commands aap dogay, wo sirf isi .venv ke andar install hongi — system Python affect nahi hota.***"
      ],
      "metadata": {
        "id": "FLijqlgIXMqC"
      }
    },
    {
      "cell_type": "markdown",
      "source": [
        "#***Note:***\n",
        "`Aap jab bhi terminal dobara open karo ge (ya system restart karo), aapko ye command phir se chalani hogi:`"
      ],
      "metadata": {
        "id": "mwSRi3CBXX2m"
      }
    },
    {
      "cell_type": "code",
      "source": [
        "source .venv/bin/activate"
      ],
      "metadata": {
        "id": "yMvr5-qhXpPG"
      },
      "execution_count": null,
      "outputs": []
    },
    {
      "cell_type": "markdown",
      "source": [
        "#**❗ Windows Users ke liye:**\n",
        "Agar aapka OS Windows hai to command thori different hogi:"
      ],
      "metadata": {
        "id": "Ygfa1gUrXseb"
      }
    },
    {
      "cell_type": "code",
      "source": [
        ".venv\\Scripts\\activate"
      ],
      "metadata": {
        "id": "IQTqf3LOX1Kp"
      },
      "execution_count": null,
      "outputs": []
    },
    {
      "cell_type": "markdown",
      "source": [
        "#***✅ Step 3: OpenAI Agents SDK Install Karna***"
      ],
      "metadata": {
        "id": "iy-Wq3VPYH6Y"
      }
    },
    {
      "cell_type": "markdown",
      "source": [
        "##***🧱 Command:***"
      ],
      "metadata": {
        "id": "VF5taobvYOol"
      }
    },
    {
      "cell_type": "code",
      "source": [
        "pip install openai-agents"
      ],
      "metadata": {
        "id": "wipfUxD-YUJe"
      },
      "execution_count": null,
      "outputs": []
    },
    {
      "cell_type": "markdown",
      "source": [
        "#***🧠 Roman Urdu Explanation:***\n",
        "\n",
        "*   Aapka virtual environment ab active hai, is liye ab aap OpenAI Agents SDK install kar sakte hain sirf isi project ke liye.\n",
        "\n",
        "*   pip Python ka package manager hai — is command se aapka system ye SDK download aur install karega from PyPI (Python Package Index).\n",
        "\n",
        "\n",
        "\n",
        "\n"
      ],
      "metadata": {
        "id": "-apSZaaWYYoI"
      }
    },
    {
      "cell_type": "markdown",
      "source": [
        "##***💡 Alternate Command (Optional):***\n",
        "`Agar aap uv use karte hain (ek fast Python package manager), to yeh command bhi use kar sakte hain:`\n"
      ],
      "metadata": {
        "id": "Yl7Fg5QmYnV9"
      }
    },
    {
      "cell_type": "code",
      "source": [
        "uv add openai-agents"
      ],
      "metadata": {
        "id": "klHSo2uEYymG"
      },
      "execution_count": null,
      "outputs": []
    },
    {
      "cell_type": "markdown",
      "source": [
        "Lekin agar uv install nahi hai to pip hi best hai."
      ],
      "metadata": {
        "id": "bnV8LG2wYz6_"
      }
    },
    {
      "cell_type": "markdown",
      "source": [
        "***✅ Install ke baad:***\n",
        "> * Ab aap `from agents import Agent` jaisi lines likh saktay hain — kyun ke ab SDK available hai\n",
        "\n",
        "> * Aapka environment ab agent bananay ke liye ready hai.\n",
        "\n"
      ],
      "metadata": {
        "id": "LYhiLBAfTbrW"
      }
    },
    {
      "cell_type": "markdown",
      "source": [
        "#***✅ Step 4: OpenAI API Key Set Karna***\n"
      ],
      "metadata": {
        "id": "x0V2BOEyT9TJ"
      }
    },
    {
      "cell_type": "markdown",
      "source": [
        "##***🧱 Command:***"
      ],
      "metadata": {
        "id": "fpOzNcupUHrC"
      }
    },
    {
      "cell_type": "code",
      "source": [
        "export OPENAI_API_KEY=sk-..."
      ],
      "metadata": {
        "id": "LdyKMYOAUOLk"
      },
      "execution_count": null,
      "outputs": []
    },
    {
      "cell_type": "markdown",
      "source": [
        "`⚠️ Yahan sk-... ki jagah aapko apni actual OpenAI API key lagani hai.`"
      ],
      "metadata": {
        "id": "Qx4VF0g4UQ3j"
      }
    },
    {
      "cell_type": "markdown",
      "source": [
        "#***🧠 Roman Urdu Explanation:***\n",
        "OpenAI Agents SDK ko kaam karne ke liye aapki API key chahiye hoti hai — taki wo OpenAI ke models (like GPT-4) ko access kar sake.\n",
        "\n",
        "Aap ye API key OpenAI Dashboard se le saktay hain:\n",
        "\n",
        "🔗 https://platform.openai.com/api-keys\n",
        "\n",
        "Wahan se key copy karo, aur export command mein paste karo, jaise:"
      ],
      "metadata": {
        "id": "80iun3AJUdGd"
      }
    },
    {
      "cell_type": "markdown",
      "source": [
        "#***💡 Important Notes:***\n",
        "Ye export command temporary hoti hai — sirf current terminal session mein kaam karegi.\n",
        "\n",
        "Terminal band karne ke baad aapko dobara ye command chalani hogi.\n",
        "\n",
        "✅ Agar aap permanently set karna chahein to .bashrc ya .zshrc file mein ye line add kar saktay hain."
      ],
      "metadata": {
        "id": "Nh-8YriHUuLi"
      }
    },
    {
      "cell_type": "markdown",
      "source": [
        "##***❗ Windows Users ke liye:***\n",
        "Windows par ye command different hogi:"
      ],
      "metadata": {
        "id": "0i2Q4vTrU0f_"
      }
    },
    {
      "cell_type": "code",
      "source": [
        "set OPENAI_API_KEY=sk-abc123xyz456"
      ],
      "metadata": {
        "id": "RhOO9uvYU5nK"
      },
      "execution_count": null,
      "outputs": []
    },
    {
      "cell_type": "markdown",
      "source": [
        "#***✅ Step 5: Pehla Agent Banana***"
      ],
      "metadata": {
        "id": "7DmlTz2EVBEy"
      }
    },
    {
      "cell_type": "code",
      "source": [
        "from agents import Agent\n",
        "\n",
        "agent = Agent(\n",
        "    name=\"Math Tutor\",\n",
        "    instructions=\"You provide help with math problems. Explain your reasoning at each step and include examples\",\n",
        ")\n"
      ],
      "metadata": {
        "id": "BMsvGz60VGTL"
      },
      "execution_count": null,
      "outputs": []
    },
    {
      "cell_type": "markdown",
      "source": [
        "##***Explanation:***\n",
        "\n",
        "*   Aapne ab OpenAI Agents SDK install kar liya aur API key bhi set kar li.\n",
        "*   Ab hum Agent create kar rahay hain — jo AI ka core hissa hai.\n",
        "*   Agent ek class hai jisko hum define karte hain kuch instructions aur name ke sath."
      ],
      "metadata": {
        "id": "3xkpKfANVJ1k"
      }
    },
    {
      "cell_type": "markdown",
      "source": [
        "##***🔍 Breakdown:***\n",
        "####**name=\"Math Tutor\":**\n",
        "Ye agent ka naam hai — aap kuch bhi rakh saktay ho like \"Code Assistant\" ya \"Essay Helper\".\n",
        "\n",
        "####***instructions=\"...\"***\n",
        "Ye bohot important hai — ye agent ko batata hai ke uska role kya hai.\n",
        "Yahan hum keh rahe hain:\n",
        "\n",
        "\"Math problems mein madad karo, har step explain karo, aur examples do.\"\n",
        "\n",
        "Ye instructions LLM ko batati hain ke usay kis style mein jawab dena hai.\n",
        "\n"
      ],
      "metadata": {
        "id": "1ScwlFrOVdjM"
      }
    },
    {
      "cell_type": "markdown",
      "source": [
        "###***🧪 Ab kya ho gaya?***\n",
        "`Aapka pehla agent ab ban gaya — lekin abhi tak wo run nahi hua.`\n",
        "\n",
        "`Sirf agent define hua hai, abhi tak koi user input ya output process nahi hua.`"
      ],
      "metadata": {
        "id": "T_9efV_XV58g"
      }
    },
    {
      "cell_type": "markdown",
      "source": [
        "#***✅ Step 6: Multiple Agents Banana + Handoff Description Dena***"
      ],
      "metadata": {
        "id": "ua5KXUgaWDmW"
      }
    },
    {
      "cell_type": "code",
      "source": [
        "from agents import Agent\n",
        "\n",
        "#1st Agent\n",
        "history_tutor_agent = Agent(\n",
        "    name=\"History Tutor\",\n",
        "    handoff_description=\"Specialist agent for historical questions\",\n",
        "    instructions=\"You provide assistance with historical queries. Explain important events and context clearly.\",\n",
        ")\n",
        "\n",
        "#2nd Agent\n",
        "math_tutor_agent = Agent(\n",
        "    name=\"Math Tutor\",\n",
        "    handoff_description=\"Specialist agent for math questions\",\n",
        "    instructions=\"You provide help with math problems. Explain your reasoning at each step and include examples\",\n",
        ")\n"
      ],
      "metadata": {
        "id": "mQUsJh19WKe6"
      },
      "execution_count": null,
      "outputs": []
    },
    {
      "cell_type": "markdown",
      "source": [
        "##***🧠 Roman Urdu Explanation:***\n",
        "Ab hum sirf aik nahi, do agents bana rahay hain — ek History Tutor aur dusra Math Tutor.\n",
        "\n",
        "####***🔍 Har Agent ka Structure:***\n",
        "Field\t     |           Explanation\n",
        "\n",
        "\n",
        "---\n",
        "\n",
        "\n",
        "name\t     |           `Agent ka naam (jaise \"History Tutor\")`\n",
        "\n",
        "\n",
        "---\n",
        "\n",
        "\n",
        "instructions\t   |     `LLM ko samjhanay ke liye kya kaam karna hai`\n",
        "\n",
        "\n",
        "---\n",
        "\n",
        "\n",
        "handoff_description\t|  `Jab agents aapas mein kaam baton, to yeh description help karti hai decide karne mein ke kisko handoff mile`"
      ],
      "metadata": {
        "id": "PEhGd5XNWT2S"
      }
    },
    {
      "cell_type": "markdown",
      "source": [
        "#***📬 handoff_description kya karta hai?***\n",
        "Jab ek agent kisi dusray agent ko kaam dena chahta hai (handoff), to wo yeh description use karta hai.\n",
        "\n",
        "For example:\n",
        "\n",
        "Agar user ka question \"When was the French Revolution?\" ho — to yeh math tutor nahi handle karega, History Tutor ko handoff milega."
      ],
      "metadata": {
        "id": "Ck3ipvNyXPYg"
      }
    },
    {
      "cell_type": "markdown",
      "source": [
        "##***🧠 Samajhne wali baat:***\n",
        "`Ab hum ek multi-agent system ki taraf ja rahay hain jahan:`\n",
        "\n",
        "`Har agent ka ek specific domain hoga.`\n",
        "\n",
        "`Agents aapas mein kaam divide kar saktay hain.`"
      ],
      "metadata": {
        "id": "mWw_HhG2XawE"
      }
    },
    {
      "cell_type": "markdown",
      "source": [
        "#***✅ Step 7: Triage Agent Banana + Handoffs Define Karna***\n"
      ],
      "metadata": {
        "id": "GXhHvJ9LXpQ-"
      }
    },
    {
      "cell_type": "code",
      "source": [
        "from agents import Agent\n",
        "\n",
        "triage_agent = Agent(\n",
        "    name=\"Triage Agent\",\n",
        "    instructions=\"You determine which agent to use based on the user's homework question\",\n",
        "    handoffs=[history_tutor_agent, math_tutor_agent]\n",
        ")\n"
      ],
      "metadata": {
        "id": "OmjqnxucXvf8"
      },
      "execution_count": null,
      "outputs": []
    },
    {
      "cell_type": "markdown",
      "source": [
        "#***🧠 Roman Urdu Explanation:***\n",
        "`Ab hum aik Triage Agent bana rahay hain.`\n",
        "\n",
        "`Ye agent ka kaam hai:`\n",
        "\n",
        "\n",
        "> User ka sawal samajhna aur decide karna ke isay kis specialist agent ko bhejna hai — Math Tutor ya History Tutor.\n",
        "\n"
      ],
      "metadata": {
        "id": "Mv3DqcL-X3T9"
      }
    },
    {
      "cell_type": "markdown",
      "source": [
        "#***🔍 Breakdown:***\n",
        "###***Field\tExplanation***\n",
        "`name: Agent ka naam — yahan \"Triage Agent\" hai.`\n",
        "\n",
        "`instructions:\tIs agent ko kaha gaya hai ke user ka input analyse karo aur appropriate agent choose karo`\n",
        "\n",
        "\n",
        "`handoffs:\tYahan hum usay batatay hain ke kis kis agent ko wo handoff kar sakta hai (History Tutor & Math Tutor)`"
      ],
      "metadata": {
        "id": "9gZCAdUeYGIC"
      }
    },
    {
      "cell_type": "markdown",
      "source": [
        "##***🧠 Example Use Case:***\n",
        "> User ka input: What is the capital of France?\n",
        "\n",
        "* Triage Agent dekhega ke yeh question math ka nahi hai.\n",
        "\n",
        "* Fir yeh usay History Tutor ko handoff kar dega."
      ],
      "metadata": {
        "id": "ZZ_x6b4cYnwB"
      }
    },
    {
      "cell_type": "markdown",
      "source": [
        "##***🔗 Connection:***\n",
        "Step 5 mein humne ek agent banaya.\n",
        "\n",
        "Step 6 mein multiple agents banaye.\n",
        "\n",
        "Ab Step 7 mein hum un agents ko connect kar rahay hain ek central decision-maker agent (triage) ke zariye."
      ],
      "metadata": {
        "id": "G_WahAqUY8el"
      }
    },
    {
      "cell_type": "markdown",
      "source": [
        "#***✅ Step 8: Agent Orchestration Run Karna***"
      ],
      "metadata": {
        "id": "jHQCNn76ZK7N"
      }
    },
    {
      "cell_type": "code",
      "source": [
        "from agents import Runner\n",
        "\n",
        "async def main():\n",
        "    result = await Runner.run(triage_agent, \"What is the capital of France?\")\n",
        "    print(result.final_output)"
      ],
      "metadata": {
        "id": "Vn824qwmZPpk"
      },
      "execution_count": null,
      "outputs": []
    },
    {
      "cell_type": "markdown",
      "source": [
        "###***🧠 Roman Urdu Explanation:***\n",
        "Ab hum apne agents ko run kar rahay hain — yani pehli dafa user input de rahay hain aur dekh rahay hain ke system kaise react karta hai.\n",
        "\n"
      ],
      "metadata": {
        "id": "Zr20TCmXZSq4"
      }
    },
    {
      "cell_type": "markdown",
      "source": [
        "##***🔍 Breakdown:***\n",
        "####***Component\tExplanation***\n",
        "> Runner.run(...)\tYe method agent ko chalatay hai.\n",
        "\n",
        "> triage_agent\tYe wo agent hai jo decide karega ke sawal kis agent ko bhejna hai.\n",
        "\n",
        "> \"What is the capital of France?\"\tYe user ka input hai\n",
        "`result.final_output`\tYe output hai jo final selected agent ne diya"
      ],
      "metadata": {
        "id": "zIaE3ey9ZeFU"
      }
    },
    {
      "cell_type": "markdown",
      "source": [
        "##***⚙️ Important Point:***\n",
        "Ye code async function ke andar likha gaya hai.\n",
        "\n"
      ],
      "metadata": {
        "id": "S3MBDGFEZ4tg"
      }
    },
    {
      "cell_type": "code",
      "source": [
        "import asyncio\n",
        "asyncio.run(main())\n"
      ],
      "metadata": {
        "id": "Lgmw6eU_ZSNO"
      },
      "execution_count": null,
      "outputs": []
    },
    {
      "cell_type": "markdown",
      "source": [
        "##***🧪 Output Expectation:***\n",
        "Agar sab sahi set hai:\n",
        "\n",
        "`Triage Agent yeh samjhay ga ke question history related hai.`\n",
        "\n",
        "`Fir yeh sawal History Tutor Agent ko bhejega.`\n",
        "\n",
        "`Output mein aapko France ki capital ka jawab milay ga — with explanation.`\n",
        "\n"
      ],
      "metadata": {
        "id": "3Lx9kkhiaTPn"
      }
    },
    {
      "cell_type": "markdown",
      "source": [
        "#***✅ Step 9: Guardrails Add Karna (Input Validation)***"
      ],
      "metadata": {
        "id": "FoObS3Z3aer3"
      }
    },
    {
      "cell_type": "code",
      "source": [
        "from agents import GuardrailFunctionOutput, Agent, Runner\n",
        "from pydantic import BaseModel\n",
        "\n",
        "class HomeworkOutput(BaseModel):\n",
        "    is_homework: bool\n",
        "    reasoning: str\n",
        "\n",
        "guardrail_agent = Agent(\n",
        "    name=\"Guardrail check\",\n",
        "    instructions=\"Check if the user is asking about homework.\",\n",
        "    output_type=HomeworkOutput,\n",
        ")\n",
        "\n",
        "async def homework_guardrail(ctx, agent, input_data):\n",
        "    result = await Runner.run(guardrail_agent, input_data, context=ctx.context)\n",
        "    final_output = result.final_output_as(HomeworkOutput)\n",
        "    return GuardrailFunctionOutput(\n",
        "        output_info=final_output,\n",
        "        tripwire_triggered=not final_output.is_homework,\n",
        "    )\n"
      ],
      "metadata": {
        "id": "j0B9Y4YXajeR"
      },
      "execution_count": null,
      "outputs": []
    },
    {
      "cell_type": "markdown",
      "source": [
        "##***🧠 Roman Urdu Explanation:***\n",
        "Ab hum apne agent ko secure bana rahay hain — yaani input ko validate karein ge ke yeh sahi hai ya nahi, aur agar sahi nahi hai to flow rok dein ge."
      ],
      "metadata": {
        "id": "e07GoiRsao8N"
      }
    },
    {
      "cell_type": "markdown",
      "source": [
        "##***🔍 Breakdown:***\n",
        "> Component\t                       Work\n",
        "\n",
        "---\n",
        "\n",
        "\n",
        "\n",
        "\n",
        "> **HomeworkOutput(BaseModel)**: \t`Yeh ek structure hai jo define karta hai ke output mein kya fields aani chahiye`\n",
        "\n",
        "\n",
        "> ***guardrail_agent:***\t`Yeh agent decide karega ke kya user ka input homework question hai ya nahi`\n",
        "\n",
        "> ***homework_guardrail():***` Yeh function agent ko run karta hai aur agar user ka input homework nahi hai to tripwire trigger kar deta hai (yaani ruk jao!)`\n"
      ],
      "metadata": {
        "id": "MzR1uHdMa6xb"
      }
    },
    {
      "cell_type": "markdown",
      "source": [
        "##***✅ Guardrail Ki Importance:***\n",
        "> Real-world apps mein har input ko process nahi karna chahiye.\n",
        "\n",
        "> Kuch inputs invalid ya irrelevant hotay hain.\n",
        "\n",
        "> Guardrail yehi check karta hai — aur agar input fail ho jaye to system ruk jata hai ya message de deta hai."
      ],
      "metadata": {
        "id": "_IM1LUVXby2E"
      }
    },
    {
      "cell_type": "markdown",
      "source": [
        "#***🧠 Example:***\n",
        "> Agar koi user input deta hai: `What is life?`\n",
        "\n",
        "> Guardrail agent check karega:\n",
        "\n",
        "> Kya yeh homework question hai?\n",
        "\n",
        "> Agar nahi — tripwire_triggered=True hoga, yani agent stop ho jaye ga."
      ],
      "metadata": {
        "id": "ehK1_Bfab-27"
      }
    },
    {
      "cell_type": "markdown",
      "source": [
        "#***✅ Step 10: Sab Kuch Ek Sath Jorna (Complete Workflow with Guardrail + Handoffs)***"
      ],
      "metadata": {
        "id": "FZPW4KwNcSq1"
      }
    },
    {
      "cell_type": "code",
      "source": [
        "from agents import Agent, InputGuardrail, GuardrailFunctionOutput, Runner\n",
        "from pydantic import BaseModel\n",
        "import asyncio\n",
        "\n",
        "# Guardrail output model\n",
        "class HomeworkOutput(BaseModel):\n",
        "    is_homework: bool\n",
        "    reasoning: str\n",
        "\n",
        "# Guardrail agent\n",
        "guardrail_agent = Agent(\n",
        "    name=\"Guardrail check\",\n",
        "    instructions=\"Check if the user is asking about homework.\",\n",
        "    output_type=HomeworkOutput,\n",
        ")\n",
        "\n",
        "# Specialist agents\n",
        "math_tutor_agent = Agent(\n",
        "    name=\"Math Tutor\",\n",
        "    handoff_description=\"Specialist agent for math questions\",\n",
        "    instructions=\"You provide help with math problems. Explain your reasoning at each step and include examples\",\n",
        ")\n",
        "\n",
        "history_tutor_agent = Agent(\n",
        "    name=\"History Tutor\",\n",
        "    handoff_description=\"Specialist agent for historical questions\",\n",
        "    instructions=\"You provide assistance with historical queries. Explain important events and context clearly.\",\n",
        ")\n",
        "\n",
        "# Guardrail function\n",
        "async def homework_guardrail(ctx, agent, input_data):\n",
        "    result = await Runner.run(guardrail_agent, input_data, context=ctx.context)\n",
        "    final_output = result.final_output_as(HomeworkOutput)\n",
        "    return GuardrailFunctionOutput(\n",
        "        output_info=final_output,\n",
        "        tripwire_triggered=not final_output.is_homework,\n",
        "    )\n",
        "\n",
        "# Triage agent with handoffs and guardrail\n",
        "triage_agent = Agent(\n",
        "    name=\"Triage Agent\",\n",
        "    instructions=\"You determine which agent to use based on the user's homework question\",\n",
        "    handoffs=[history_tutor_agent, math_tutor_agent],\n",
        "    input_guardrails=[\n",
        "        InputGuardrail(guardrail_function=homework_guardrail),\n",
        "    ],\n",
        ")\n",
        "\n",
        "# Run the agent\n",
        "async def main():\n",
        "    result = await Runner.run(triage_agent, \"who was the first president of the united states?\")\n",
        "    print(result.final_output)\n",
        "\n",
        "    result = await Runner.run(triage_agent, \"what is life\")\n",
        "    print(result.final_output)\n",
        "\n",
        "if __name__ == \"__main__\":\n",
        "    asyncio.run(main())\n"
      ],
      "metadata": {
        "id": "fjvhVVY9cSUx"
      },
      "execution_count": null,
      "outputs": []
    },
    {
      "cell_type": "markdown",
      "source": [
        "##***🧠 Roman Urdu Explanation:***\n",
        "Is step mein hum pure system ko combine kar rahay hain:\n",
        "\n",
        "####***Features***\n",
        "> **Guardrail Agent**\t`Input validate karta hai: kya yeh homework hai?`\n",
        "\n",
        "> **Triage Agent**\t`Decide karta hai ke sawal kisko bhejna hai (Math ya History Tutor)`\n",
        "\n",
        "> **Handoffs**\t`Dusray agents ko kaam assign karna`\n",
        "\n",
        ">**Runner\tAgent** `flow ko chala raha hai aur final output laa raha hai`"
      ],
      "metadata": {
        "id": "bPW_a7b4cg6W"
      }
    },
    {
      "cell_type": "markdown",
      "source": [
        "###***🧪 Example Outputs:***\n",
        "####***Valid input (homework type):***\n",
        "\n",
        "> Who was the first president of the United States?\n",
        "\n",
        "* Guardrail allow karega\n",
        "\n",
        "* Triage Agent usay History Tutor ko bhejega\n",
        "\n",
        "* Aapko output milay ga\n",
        "\n",
        "####***Invalid input (non-homework):***\n",
        "\n",
        "> \"What is life\"\n",
        "\n",
        "* Guardrail rok dega\n",
        "\n",
        "* tripwire_triggered=True — agent kuch nahi karega ya message dega"
      ],
      "metadata": {
        "id": "8Un2lDSAdd4F"
      }
    },
    {
      "cell_type": "markdown",
      "source": [
        "##***✅ Final Result:***\n",
        "`Aapka agent ab:`\n",
        "\n",
        "`Intelligent hai (LLM based)`\n",
        "\n",
        "`Decision le sakta hai (Triage logic)`\n",
        "\n",
        "`Secure hai (Guardrail validation)`\n",
        "\n",
        "`Orchestrated hai (Handoff + execution pipeline)`"
      ],
      "metadata": {
        "id": "Z_MKDL3Ud7sE"
      }
    }
  ]
}